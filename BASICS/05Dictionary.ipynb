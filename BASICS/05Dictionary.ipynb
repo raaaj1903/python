{
 "cells": [
  {
   "cell_type": "markdown",
   "id": "d804f610",
   "metadata": {},
   "source": [
    "Dictionaries in Python\n",
    "\n",
    "1-->Python dictionary is a data structure that stores the value in key: value pairs\n",
    "\n",
    "2-->alues in a dictionary can be of any data type and can be duplicated\n",
    "\n",
    "3-->whereas keys can't be repeated and must be immutable.\n",
    "\n",
    "\n"
   ]
  },
  {
   "cell_type": "code",
   "execution_count": null,
   "id": "c279650e",
   "metadata": {},
   "outputs": [
    {
     "name": "stdout",
     "output_type": "stream",
     "text": [
      "{'RAJ': 'JABALPUR', 'PRATHAM': 'INDORE', 'PALKI': 'JAIPUR'}\n",
      "{'a': 'chai', 'b': 'or', 'c': 'Code'}\n",
      "3\n",
      "RAJ JABALPUR\n",
      "PRATHAM INDORE\n",
      "PALKI JAIPUR\n"
     ]
    }
   ],
   "source": [
    "# How to Create a Dictionary\n",
    "\n",
    "# EMPTY DICTIONAR\n",
    "my_raj={} \n",
    "\n",
    "#DICTIONARY WITH KEY VALUE PAIR\n",
    "my_dict={\"RAJ\":\"JABALPUR\",\"PRATHAM\":\"INDORE\",\"PALKI\":\"JAIPUR\"}\n",
    "print(my_dict)\n",
    "\n",
    "## create dictionary using dict() constructor\n",
    "d2 = dict(a = \"chai\", b= \"or\", c = \"Code\")\n",
    "print(d2)\n",
    "\n",
    "#find length of dictionry\n",
    "print(len(my_dict))#3\n"
   ]
  },
  {
   "cell_type": "markdown",
   "id": "efe892a6",
   "metadata": {},
   "source": [
    "SOME NOTES__\n",
    "\n",
    "1--Dictionary keys are case sensitive: the same name but different cases of Key will be treated distinctly.\n",
    "\n",
    "2--Keys must be immutable: This means keys can be strings, numbers or tuples but not lists.\n",
    "\n",
    "3--Keys must be unique: Duplicate keys are not allowed and any duplicate key will overwrite the previous value.\n",
    "\n",
    "4--Dictionary internally uses Hashing. Hence, operations like search, insert, delete can be performed in Constant Time."
   ]
  },
  {
   "cell_type": "code",
   "execution_count": 4,
   "id": "63c10785",
   "metadata": {},
   "outputs": [
    {
     "name": "stdout",
     "output_type": "stream",
     "text": [
      "INDORE\n"
     ]
    }
   ],
   "source": [
    "# Accessing Dictionary Items\n",
    "\n",
    "# We can access a value from a dictionary by using the key within square brackets or get() method.\n",
    "\n",
    "my_dict={\"RAJ\":\"JABALPUR\",\"PRATHAM\":\"INDORE\",\"PALKI\":\"JAIPUR\"}\n",
    "\n",
    "\n",
    "# Access using key\n",
    "my_dict[\"RAJ\"]# RETURN VALUE \n",
    "\n",
    "# Access using get()\n",
    "\n",
    "print(my_dict.get(\"PRATHAM\"))"
   ]
  }
 ],
 "metadata": {
  "kernelspec": {
   "display_name": "Python 3",
   "language": "python",
   "name": "python3"
  },
  "language_info": {
   "codemirror_mode": {
    "name": "ipython",
    "version": 3
   },
   "file_extension": ".py",
   "mimetype": "text/x-python",
   "name": "python",
   "nbconvert_exporter": "python",
   "pygments_lexer": "ipython3",
   "version": "3.13.5"
  }
 },
 "nbformat": 4,
 "nbformat_minor": 5
}
