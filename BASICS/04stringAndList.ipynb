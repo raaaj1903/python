{
 "cells": [
  {
   "cell_type": "markdown",
   "id": "cc46317b",
   "metadata": {},
   "source": [
    "pyhton string \n",
    "\n",
    "A string is a sequence of characters. Python treats anything inside quotes as a string. This includes letters, numbers, and symbols"
   ]
  },
  {
   "cell_type": "code",
   "execution_count": 1,
   "id": "250fb23d",
   "metadata": {},
   "outputs": [
    {
     "name": "stdout",
     "output_type": "stream",
     "text": [
      "A\n",
      "RAJR\n"
     ]
    }
   ],
   "source": [
    "s = \"RAJ\"\n",
    "\n",
    "print(s[1]) # access 2nd char\n",
    "s1 = s + s[0] # update\n",
    "print(s1) # print"
   ]
  },
  {
   "cell_type": "code",
   "execution_count": 2,
   "id": "7fbfb0d9",
   "metadata": {},
   "outputs": [
    {
     "name": "stdout",
     "output_type": "stream",
     "text": [
      "PUBG\n",
      "PLAYER\n"
     ]
    }
   ],
   "source": [
    "# Creating a String\n",
    "s1 = 'PUBG'\n",
    "s2 = \"PLAYER\"\n",
    "print(s1)\n",
    "print(s2)"
   ]
  },
  {
   "cell_type": "code",
   "execution_count": 3,
   "id": "6cfc484c",
   "metadata": {},
   "outputs": [
    {
     "name": "stdout",
     "output_type": "stream",
     "text": [
      "I am Learning\n",
      "Python String on youtube\n",
      "I'm a \n",
      "RAJ JAISWAL\n"
     ]
    }
   ],
   "source": [
    "# Multi-line Strings\n",
    "\n",
    "s = \"\"\"I am Learning\n",
    "Python String on youtube\"\"\"\n",
    "print(s)\n",
    "\n",
    "s = '''I'm a \n",
    "RAJ JAISWAL'''\n",
    "print(s)"
   ]
  },
  {
   "cell_type": "code",
   "execution_count": null,
   "id": "03bc457e",
   "metadata": {},
   "outputs": [
    {
     "name": "stdout",
     "output_type": "stream",
     "text": [
      "R\n",
      "J\n"
     ]
    }
   ],
   "source": [
    "# Accessing characters in Python String\n",
    "\n",
    "s = \"RAJ JAISWAL\"\n",
    "\n",
    "# Accesses first character: 'R'\n",
    "print(s[0])  \n",
    "\n",
    "# Accesses 5th character: 'J'\n",
    "print(s[4])\n",
    "\n",
    "# : Accessing an index out of range will cause an IndexError."
   ]
  },
  {
   "cell_type": "code",
   "execution_count": null,
   "id": "91388b48",
   "metadata": {},
   "outputs": [
    {
     "name": "stdout",
     "output_type": "stream",
     "text": [
      "c\n",
      "r\n"
     ]
    }
   ],
   "source": [
    "# Access string with Negative Indexing\n",
    "\n",
    "# Python allows negative address references to access characters from back of the String, e.g. -1 refers to the last character, -2 refers to the second last character, and so on. \n",
    "\n",
    "s = \"chaiorcode\"\n",
    "\n",
    "# Accesses 3rd character: 'c'\n",
    "print(s[-10])  \n",
    "\n",
    "# Accesses 5th character from end: 'r'\n",
    "print(s[-5])"
   ]
  },
  {
   "cell_type": "code",
   "execution_count": null,
   "id": "9b5e84b2",
   "metadata": {},
   "outputs": [],
   "source": [
    "# String Slicing\n",
    "\n",
    "# Slicing is a way to extract portion of a string by specifying the start and end indexes. The syntax for slicing is string[start:end], where start starting index and end is stopping index (excluded)."
   ]
  },
  {
   "cell_type": "code",
   "execution_count": null,
   "id": "aaf58be3",
   "metadata": {},
   "outputs": [
    {
     "name": "stdout",
     "output_type": "stream",
     "text": [
      "ELL\n",
      "HEL\n",
      "LOBRO\n",
      "ORBOLLEH\n"
     ]
    }
   ],
   "source": [
    "s = \"HELLOBRO\"\n",
    "\n",
    "# Retrieves characters from index 1 to 3: \n",
    "print(s[1:4])  \n",
    "\n",
    "# Retrieves characters from beginning to index 2: \n",
    "print(s[:3])   \n",
    "\n",
    "# Retrieves characters from index 3 to the end: \n",
    "print(s[3:])   \n",
    "\n",
    "# Reverse a string\n",
    "print(s[::-1])"
   ]
  },
  {
   "cell_type": "code",
   "execution_count": 10,
   "id": "e438692c",
   "metadata": {},
   "outputs": [
    {
     "name": "stdout",
     "output_type": "stream",
     "text": [
      "['masala', 'ginger', 'mint']\n"
     ]
    }
   ],
   "source": [
    "#covert string into list\n",
    "chai=\"masala, ginger, mint\"\n",
    "print(chai.split(\", \"))"
   ]
  },
  {
   "cell_type": "code",
   "execution_count": null,
   "id": "0dd397ff",
   "metadata": {},
   "outputs": [
    {
     "name": "stdout",
     "output_type": "stream",
     "text": [
      "ginger masala ice\n",
      "ginger, masala, ice\n"
     ]
    }
   ],
   "source": [
    "#convert list into string\n",
    "chai_variety=['ginger','masala','ice']\n",
    "# print(\"\".join(chai_variety))-->gingermasalaice\n",
    "print(\" \".join(chai_variety))#ginger masala ice return string\n",
    "print(\", \".join(chai_variety))\n",
    "#ginger, masala, ice"
   ]
  },
  {
   "cell_type": "code",
   "execution_count": null,
   "id": "a815bbe1",
   "metadata": {},
   "outputs": [],
   "source": []
  }
 ],
 "metadata": {
  "kernelspec": {
   "display_name": "Python 3",
   "language": "python",
   "name": "python3"
  },
  "language_info": {
   "codemirror_mode": {
    "name": "ipython",
    "version": 3
   },
   "file_extension": ".py",
   "mimetype": "text/x-python",
   "name": "python",
   "nbconvert_exporter": "python",
   "pygments_lexer": "ipython3",
   "version": "3.13.5"
  }
 },
 "nbformat": 4,
 "nbformat_minor": 5
}
