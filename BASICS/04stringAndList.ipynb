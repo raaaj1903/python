{
 "cells": [
  {
   "cell_type": "markdown",
   "id": "cc46317b",
   "metadata": {},
   "source": [
    "pyhton string \n",
    "\n",
    "A string is a sequence of characters. Python treats anything inside quotes as a string. This includes letters, numbers, and symbols"
   ]
  },
  {
   "cell_type": "code",
   "execution_count": 1,
   "id": "250fb23d",
   "metadata": {},
   "outputs": [
    {
     "name": "stdout",
     "output_type": "stream",
     "text": [
      "A\n",
      "RAJR\n"
     ]
    }
   ],
   "source": [
    "s = \"RAJ\"\n",
    "\n",
    "print(s[1]) # access 2nd char\n",
    "s1 = s + s[0] # update\n",
    "print(s1) # print"
   ]
  },
  {
   "cell_type": "code",
   "execution_count": 2,
   "id": "7fbfb0d9",
   "metadata": {},
   "outputs": [
    {
     "name": "stdout",
     "output_type": "stream",
     "text": [
      "PUBG\n",
      "PLAYER\n"
     ]
    }
   ],
   "source": [
    "# Creating a String\n",
    "s1 = 'PUBG'\n",
    "s2 = \"PLAYER\"\n",
    "print(s1)\n",
    "print(s2)"
   ]
  },
  {
   "cell_type": "code",
   "execution_count": 3,
   "id": "6cfc484c",
   "metadata": {},
   "outputs": [
    {
     "name": "stdout",
     "output_type": "stream",
     "text": [
      "I am Learning\n",
      "Python String on youtube\n",
      "I'm a \n",
      "RAJ JAISWAL\n"
     ]
    }
   ],
   "source": [
    "# Multi-line Strings\n",
    "\n",
    "s = \"\"\"I am Learning\n",
    "Python String on youtube\"\"\"\n",
    "print(s)\n",
    "\n",
    "s = '''I'm a \n",
    "RAJ JAISWAL'''\n",
    "print(s)"
   ]
  },
  {
   "cell_type": "code",
   "execution_count": null,
   "id": "03bc457e",
   "metadata": {},
   "outputs": [
    {
     "name": "stdout",
     "output_type": "stream",
     "text": [
      "R\n",
      "J\n"
     ]
    }
   ],
   "source": [
    "# Accessing characters in Python String\n",
    "\n",
    "s = \"RAJ JAISWAL\"\n",
    "\n",
    "# Accesses first character: 'R'\n",
    "print(s[0])  \n",
    "\n",
    "# Accesses 5th character: 'J'\n",
    "print(s[4])\n",
    "\n",
    "# : Accessing an index out of range will cause an IndexError."
   ]
  },
  {
   "cell_type": "code",
   "execution_count": null,
   "id": "91388b48",
   "metadata": {},
   "outputs": [
    {
     "name": "stdout",
     "output_type": "stream",
     "text": [
      "c\n",
      "r\n"
     ]
    }
   ],
   "source": [
    "# Access string with Negative Indexing\n",
    "\n",
    "# Python allows negative address references to access characters from back of the String, e.g. -1 refers to the last character, -2 refers to the second last character, and so on. \n",
    "\n",
    "s = \"chaiorcode\"\n",
    "\n",
    "# Accesses 3rd character: 'c'\n",
    "print(s[-10])  \n",
    "\n",
    "# Accesses 5th character from end: 'r'\n",
    "print(s[-5])"
   ]
  },
  {
   "cell_type": "code",
   "execution_count": null,
   "id": "9b5e84b2",
   "metadata": {},
   "outputs": [],
   "source": [
    "# String Slicing\n",
    "\n",
    "# Slicing is a way to extract portion of a string by specifying the start and end indexes. The syntax for slicing is string[start:end], where start starting index and end is stopping index (excluded)."
   ]
  },
  {
   "cell_type": "code",
   "execution_count": null,
   "id": "aaf58be3",
   "metadata": {},
   "outputs": [
    {
     "name": "stdout",
     "output_type": "stream",
     "text": [
      "ELL\n",
      "HEL\n",
      "LOBRO\n",
      "ORBOLLEH\n"
     ]
    }
   ],
   "source": [
    "s = \"HELLOBRO\"\n",
    "\n",
    "# Retrieves characters from index 1 to 3: \n",
    "print(s[1:4])  \n",
    "\n",
    "# Retrieves characters from beginning to index 2: \n",
    "print(s[:3])   \n",
    "\n",
    "# Retrieves characters from index 3 to the end: \n",
    "print(s[3:])   \n",
    "\n",
    "# Reverse a string\n",
    "print(s[::-1])"
   ]
  },
  {
   "cell_type": "code",
   "execution_count": 10,
   "id": "e438692c",
   "metadata": {},
   "outputs": [
    {
     "name": "stdout",
     "output_type": "stream",
     "text": [
      "['masala', 'ginger', 'mint']\n"
     ]
    }
   ],
   "source": [
    "#covert string into list\n",
    "chai=\"masala, ginger, mint\"\n",
    "print(chai.split(\", \"))"
   ]
  },
  {
   "cell_type": "code",
   "execution_count": 14,
   "id": "0dd397ff",
   "metadata": {},
   "outputs": [
    {
     "name": "stdout",
     "output_type": "stream",
     "text": [
      "ginger masala ice\n",
      "ginger, masala, ice\n"
     ]
    }
   ],
   "source": [
    "#convert list into string\n",
    "chai_variety=['ginger','masala','ice']\n",
    "# print(\"\".join(chai_variety))-->gingermasalaice\n",
    "print(\" \".join(chai_variety))#ginger masala ice return string\n",
    "print(\", \".join(chai_variety))\n",
    "#ginger, masala, ice"
   ]
  },
  {
   "cell_type": "code",
   "execution_count": null,
   "id": "a2bce935",
   "metadata": {},
   "outputs": [
    {
     "name": "stdout",
     "output_type": "stream",
     "text": [
      "i am raj, and i am softwear Engineer, in it company\n"
     ]
    }
   ],
   "source": [
    "# Formatting Strings\n",
    "# Python provides several ways to include variables inside strings.\n",
    "\n",
    "name=\"raj\"\n",
    "profession=\"softwear Engineer\"\n",
    "sentence=\"i am {}, and i am {}, in it company\"\n",
    "\n",
    "print(sentence.format(name,profession))\n",
    "\n",
    "\n"
   ]
  },
  {
   "cell_type": "code",
   "execution_count": 32,
   "id": "7a521643",
   "metadata": {},
   "outputs": [
    {
     "name": "stdout",
     "output_type": "stream",
     "text": [
      "Name: Alice, Age: 22\n"
     ]
    }
   ],
   "source": [
    "# Another Way\n",
    "\n",
    "name = \"Alice\"\n",
    "age = 22\n",
    "print(f\"Name: {name}, Age: {age}\")\n"
   ]
  },
  {
   "cell_type": "code",
   "execution_count": 35,
   "id": "cd79a81e",
   "metadata": {},
   "outputs": [
    {
     "name": "stdout",
     "output_type": "stream",
     "text": [
      "True\n",
      "False\n"
     ]
    }
   ],
   "source": [
    "# Using in for String Membership Testing\n",
    "s=\"I AM RAJ JAISWAL\"\n",
    "print(\"RAJ\" in s) #True\n",
    "print(\"RISHI\" in s) #False"
   ]
  },
  {
   "cell_type": "markdown",
   "id": "0c4a6c56",
   "metadata": {},
   "source": [
    "STARTING LIST\n",
    "\n",
    "Lists are ordered, mutable collections that can store mixed data types.\n",
    "\n",
    "Defined using square brackets, e.g., my_list = [1, 2, 3].\n",
    "\n",
    "Indexing starts from 0 and supports negative indexing.\n",
    "\n",
    "Use len() to get the number of elements in a list.\n",
    "\n",
    "Elements can be added with append(), insert(), or extend().\n",
    "\n",
    "Remove items using remove(), pop(), or clear().\n",
    "\n",
    "Lists support slicing, e.g., my_list[1:3].\n",
    "\n",
    "Use in to check if an item exists in a list.\n",
    "\n",
    "Lists can be sorted using sort() or reversed using reverse().\n",
    "\n",
    "List comprehension provides a concise way to create lists.\n",
    "\n",
    "Lists can contain other lists (nested lists).\n",
    "\n",
    "They are different from tuples, which are immutable."
   ]
  },
  {
   "cell_type": "code",
   "execution_count": null,
   "id": "0f6c0c68",
   "metadata": {},
   "outputs": [],
   "source": [
    "# In Python, a list is a built-in dynamic sized array automatically grows and shrinks). We can store all types of items (including another list) in a list. A list may contain mixed type of items, this is possible because a list mainly stores references at contiguous locations and actual items maybe stored at different locations.\n",
    "\n",
    "# List can contain duplicate items.\n",
    "# List in Python are Mutable. Hence, we can modify, replace or delete the items.\n",
    "# List are ordered. It maintain the order of elements based on how they are added.\n",
    "# Accessing items in List can be done directly using their position (index), starting from 0."
   ]
  },
  {
   "cell_type": "code",
   "execution_count": null,
   "id": "cd7cb61c",
   "metadata": {},
   "outputs": [
    {
     "name": "stdout",
     "output_type": "stream",
     "text": [
      "[10, 20, 30, 'raj', 40, True]\n",
      "10\n",
      "20\n",
      "30\n",
      "raj\n",
      "40\n",
      "<class 'int'>\n",
      "<class 'str'>\n"
     ]
    }
   ],
   "source": [
    "# Creating a Python list with different data types\n",
    "a=[10,20,30,\"raj\",40,True]\n",
    "print(a)\n",
    "\n",
    "# Accessing elements using indexing\n",
    "print(a[0])  # 10\n",
    "print(a[1])  # 20\n",
    "print(a[2])  # 30\n",
    "print(a[3])  # raj\n",
    "print(a[4])  # 40\n",
    "\n",
    "# Checking types of elements\n",
    "print(type(a[2]))#<class 'int'>\n",
    "print(type(a[3]))#<class 'str'>\n"
   ]
  },
  {
   "cell_type": "code",
   "execution_count": null,
   "id": "3e554b47",
   "metadata": {},
   "outputs": [],
   "source": [
    "# # explain\n",
    "\n",
    "# Note: Lists Store References, Not Values\n",
    "\n",
    "# Each element in a list is not stored directly inside the list structure. Instead, the list stores references (pointers) to the actual objects in memory. Example (from the image representation). \n",
    "\n",
    "# The list a itself is a container with references (addresses) to the actual values.\n",
    "# Python internally creates separate objects for 10, 20, \"GfG\", 40 and True, then stores their memory addresses inside a.\n",
    "# This means that modifying an element doesn’t affect other elements but can affect the referenced object if it is mutable\n"
   ]
  },
  {
   "cell_type": "code",
   "execution_count": 41,
   "id": "40cfc0d9",
   "metadata": {},
   "outputs": [
    {
     "name": "stdout",
     "output_type": "stream",
     "text": [
      "[1, 2, 3, 4, 5]\n",
      "['apple', 'banana', 'cherry']\n",
      "[1, 'hello', 3.14, True]\n"
     ]
    }
   ],
   "source": [
    "#Creaing a List\n",
    "#Here are some common methods to create a list:\n",
    "\n",
    "# List of integers\n",
    "a = [1, 2, 3, 4, 5]\n",
    "\n",
    "# List of strings\n",
    "b = ['apple', 'banana', 'cherry']\n",
    "\n",
    "# Mixed data types\n",
    "c = [1, 'hello', 3.14, True]\n",
    "\n",
    "print(a)\n",
    "print(b)\n",
    "print(c)"
   ]
  },
  {
   "cell_type": "code",
   "execution_count": null,
   "id": "4eb56ab7",
   "metadata": {},
   "outputs": [
    {
     "name": "stdout",
     "output_type": "stream",
     "text": [
      "[1, 2, 3, 'apple', 4.5]\n"
     ]
    }
   ],
   "source": [
    "# Using list() Constructor\n",
    "# From a tuple\n",
    "a = list((1, 2, 3, 'apple', 4.5))  \n",
    "print(a)\n",
    "#[1, 2, 3, 'apple', 4.5]"
   ]
  },
  {
   "cell_type": "code",
   "execution_count": 44,
   "id": "be25c1f7",
   "metadata": {},
   "outputs": [
    {
     "name": "stdout",
     "output_type": "stream",
     "text": [
      "[2, 2, 2, 2, 2]\n",
      "[0, 0, 0, 0, 0, 0, 0]\n"
     ]
    }
   ],
   "source": [
    "# Creating List with Repeated Elements\n",
    "\n",
    "# Create a list [2, 2, 2, 2, 2]\n",
    "a = [2] * 5\n",
    "\n",
    "# Create a list [0, 0, 0, 0, 0, 0, 0]\n",
    "b = [0] * 7\n",
    "\n",
    "print(a)\n",
    "print(b)"
   ]
  },
  {
   "cell_type": "code",
   "execution_count": 45,
   "id": "8c429651",
   "metadata": {},
   "outputs": [
    {
     "name": "stdout",
     "output_type": "stream",
     "text": [
      "10\n",
      "50\n"
     ]
    }
   ],
   "source": [
    "# # Accessing List Elements\n",
    "# Elements in a list can be accessed using indexing. Python indexes start at 0, so a[0] will access the first element, while negative indexing allows us to access elements from the end of the list. Like index -1 represents the last elements of list.\n",
    "\n",
    "a = [10, 20, 30, 40, 50]\n",
    "\n",
    "# Access first element\n",
    "print(a[0])    \n",
    "\n",
    "# Access last element\n",
    "print(a[-1])"
   ]
  },
  {
   "cell_type": "code",
   "execution_count": null,
   "id": "43ccee68",
   "metadata": {},
   "outputs": [],
   "source": [
    "# Adding Elements into List\n",
    "# We can add elements to a list using the following methods:\n",
    "\n",
    "# append(): Adds an element at the end of the list.\n",
    "# extend(): Adds multiple elements to the end of the list.\n",
    "# insert(): Adds an element at a specific position."
   ]
  },
  {
   "cell_type": "code",
   "execution_count": null,
   "id": "81f67e49",
   "metadata": {},
   "outputs": [
    {
     "name": "stdout",
     "output_type": "stream",
     "text": [
      "[]\n",
      "[10]\n",
      "[5, 10]\n",
      "[5]\n",
      "[]\n"
     ]
    }
   ],
   "source": [
    "# Initialize an empty list\n",
    "a=[]\n",
    "print(a)\n",
    "\n",
    "# Adding 10 to end of list\n",
    "a.append(10)\n",
    "print(a)\n",
    "\n",
    "# Inserting 5 at index 0\n",
    "a.insert(0,5)\n",
    "print(a)#front me add hogaa\n",
    "a.pop()#remove last element in list\n",
    "print(a)\n",
    "\n",
    "a.remove(5)\n",
    "print(a)#[]\n",
    "\n"
   ]
  },
  {
   "cell_type": "code",
   "execution_count": null,
   "id": "7e27a4c2",
   "metadata": {},
   "outputs": [],
   "source": [
    "# Removing Elements from List\n",
    "# We can remove elements from a list using:\n",
    "\n",
    "''' \n",
    "remove(): Removes the first occurrence of an element.\n",
    "pop(): Removes the element at a specific index or the last element if no index is specified.\n",
    "del statement: Deletes an element at a specified index.'''\n"
   ]
  },
  {
   "cell_type": "code",
   "execution_count": 52,
   "id": "0d098e32",
   "metadata": {},
   "outputs": [
    {
     "name": "stdout",
     "output_type": "stream",
     "text": [
      "After remove(30): [10, 20, 40, 50]\n",
      "Popped element: 20\n",
      "After pop(1): [10, 40, 50]\n",
      "After del a[0]: [40, 50]\n"
     ]
    }
   ],
   "source": [
    "a = [10, 20, 30, 40, 50]\n",
    "\n",
    "# Removes the first occurrence of 30\n",
    "a.remove(30)  \n",
    "print(\"After remove(30):\", a)\n",
    "\n",
    "# Removes the element at index 1 (20)\n",
    "popped_val = a.pop(1)  \n",
    "print(\"Popped element:\", popped_val)\n",
    "print(\"After pop(1):\", a) \n",
    "\n",
    "# Deletes the first element (10)\n",
    "del a[0]  \n",
    "print(\"After del a[0]:\", a)"
   ]
  },
  {
   "cell_type": "code",
   "execution_count": 53,
   "id": "3030e315",
   "metadata": {},
   "outputs": [
    {
     "name": "stdout",
     "output_type": "stream",
     "text": [
      "apple\n",
      "banana\n",
      "cherry\n"
     ]
    }
   ],
   "source": [
    "# #Iterating Over Lists\n",
    "# We can iterate the Lists easily by using a for loop or other iteration methods.\n",
    "\n",
    "a = ['apple', 'banana', 'cherry']\n",
    "\n",
    "# Iterating over the list\n",
    "for item in a:\n",
    "    print(item)\n"
   ]
  },
  {
   "cell_type": "code",
   "execution_count": 24,
   "id": "a815bbe1",
   "metadata": {},
   "outputs": [
    {
     "name": "stdout",
     "output_type": "stream",
     "text": [
      "['black', 'white', 'blue']\n",
      "['white']\n",
      "['black', 'l', 'e', 'm', 'o', 'n', 'blue']\n",
      "['black', 'lemon', 'e', 'm', 'o', 'n', 'blue']\n",
      "[]\n"
     ]
    }
   ],
   "source": [
    "teavarity=['black','white','blue']\n",
    "print(teavarity)\n",
    "print(teavarity[1:2])\n",
    "#addint new tea in 1 index using slicing\n",
    "teavarity[1:2]=\"lemon\"# as as array treat le rhaa h\n",
    "\n",
    "print(teavarity)\n",
    "#['black', 'l', 'e', 'm', 'o', 'n', 'blue']\n",
    "\n",
    "teavarity[1:2]=[\"lemon\"]\n",
    "print(teavarity)\n",
    "\n",
    "teavarity[:]=[]\n",
    "print(teavarity)\n"
   ]
  },
  {
   "cell_type": "code",
   "execution_count": null,
   "id": "94652e0d",
   "metadata": {},
   "outputs": [
    {
     "name": "stdout",
     "output_type": "stream",
     "text": [
      "{'RAJ': 'JABALPUR', 'PRATHAM': 'INDORE', 'PALKI': 'JAIPUR'}\n",
      "3\n",
      "RAJ JABALPUR\n",
      "PRATHAM INDORE\n",
      "PALKI JAIPUR\n"
     ]
    }
   ],
   "source": [
    "my_dict={\"RAJ\":\"JABALPUR\",\"PRATHAM\":\"INDORE\",\"PALKI\":\"JAIPUR\"}\n",
    "print(my_dict)\n",
    "print(len(my_dict))#3\n",
    "\n",
    "\n",
    "for i in my_dict:\n",
    "    print(i,my_dict[i])\n",
    "\n",
    "    "
   ]
  },
  {
   "cell_type": "code",
   "execution_count": 13,
   "id": "2ba3014b",
   "metadata": {},
   "outputs": [
    {
     "name": "stdout",
     "output_type": "stream",
     "text": [
      "{'RAJ': 'JABALPUR', 'PRATHAM': 'INDORE', 'PALKI': 'JAIPUR', 'tutu': 'ghar'}\n"
     ]
    },
    {
     "data": {
      "text/plain": [
       "'ghar'"
      ]
     },
     "execution_count": 13,
     "metadata": {},
     "output_type": "execute_result"
    }
   ],
   "source": [
    "my_dict[\"tutu\"]=\"ghar\"\n",
    "print(my_dict)\n",
    "\n",
    "#pop methode\n",
    "my_dict.pop(\"tutu\")#return value\n",
    "\n",
    "# print(my_dict)"
   ]
  },
  {
   "cell_type": "code",
   "execution_count": 5,
   "id": "5dc7ccd3",
   "metadata": {},
   "outputs": [
    {
     "name": "stdout",
     "output_type": "stream",
     "text": [
      "RAJ JABALPUR\n",
      "PRATHAM INDORE\n",
      "PALKI JAIPUR\n"
     ]
    }
   ],
   "source": [
    "for key,value in my_dict.items():\n",
    "    print(key,value)"
   ]
  },
  {
   "cell_type": "code",
   "execution_count": 6,
   "id": "3d59f856",
   "metadata": {},
   "outputs": [
    {
     "name": "stdout",
     "output_type": "stream",
     "text": [
      "yes raj is here\n"
     ]
    }
   ],
   "source": [
    "if \"RAJ\" in my_dict:\n",
    "    print(\"yes raj is here\")"
   ]
  },
  {
   "cell_type": "code",
   "execution_count": 14,
   "id": "a930ac7b",
   "metadata": {},
   "outputs": [
    {
     "data": {
      "text/plain": [
       "('PALKI', 'JAIPUR')"
      ]
     },
     "execution_count": 14,
     "metadata": {},
     "output_type": "execute_result"
    }
   ],
   "source": [
    "my_dict.popitem()"
   ]
  },
  {
   "cell_type": "code",
   "execution_count": null,
   "id": "85565bc5",
   "metadata": {},
   "outputs": [
    {
     "data": {
      "text/plain": [
       "'JABALPUR'"
      ]
     },
     "execution_count": 20,
     "metadata": {},
     "output_type": "execute_result"
    }
   ],
   "source": [
    "my_dict.get(\"RAJ\")#return value\n"
   ]
  },
  {
   "cell_type": "code",
   "execution_count": null,
   "id": "abb7b8d4",
   "metadata": {},
   "outputs": [
    {
     "name": "stdout",
     "output_type": "stream",
     "text": [
      "{}\n"
     ]
    }
   ],
   "source": [
    "# my_dict.clear()\n",
    "# print(my_dict) {}"
   ]
  },
  {
   "cell_type": "code",
   "execution_count": 26,
   "id": "89caf353",
   "metadata": {},
   "outputs": [
    {
     "name": "stdout",
     "output_type": "stream",
     "text": [
      "{'RAJ': 'Boy', 'PRATHAM': 'Boy', 'RISHI': 'Boy'}\n"
     ]
    }
   ],
   "source": [
    "key=[\"RAJ\",\"PRATHAM\",\"RISHI\"]\n",
    "deafault_value= \"Boy\"\n",
    "new_dict=dict.fromkeys(key,deafault_value)\n",
    "print(new_dict)"
   ]
  }
 ],
 "metadata": {
  "kernelspec": {
   "display_name": "Python 3",
   "language": "python",
   "name": "python3"
  },
  "language_info": {
   "codemirror_mode": {
    "name": "ipython",
    "version": 3
   },
   "file_extension": ".py",
   "mimetype": "text/x-python",
   "name": "python",
   "nbconvert_exporter": "python",
   "pygments_lexer": "ipython3",
   "version": "3.13.5"
  }
 },
 "nbformat": 4,
 "nbformat_minor": 5
}
