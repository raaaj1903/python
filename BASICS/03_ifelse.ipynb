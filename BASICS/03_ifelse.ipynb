{
 "cells": [
  {
   "cell_type": "markdown",
   "id": "4f191100",
   "metadata": {},
   "source": [
    "If Conditional Statement in Python\n",
    "\n",
    "If statement is the simplest form of a conditional statement. It executes a block of code if the given condition is true."
   ]
  },
  {
   "cell_type": "code",
   "execution_count": 1,
   "id": "f58277b9",
   "metadata": {},
   "outputs": [
    {
     "name": "stdout",
     "output_type": "stream",
     "text": [
      "eligible for vote\n"
     ]
    }
   ],
   "source": [
    "age=20\n",
    "if age >=18:\n",
    "    print(\"eligible for vote\")"
   ]
  },
  {
   "cell_type": "markdown",
   "id": "f725f30c",
   "metadata": {},
   "source": [
    "Short Hand if\n",
    "\n",
    "Short-hand if statement allows us to write a single-line if statement."
   ]
  },
  {
   "cell_type": "code",
   "execution_count": 2,
   "id": "1d94231e",
   "metadata": {},
   "outputs": [
    {
     "name": "stdout",
     "output_type": "stream",
     "text": [
      "eligible for vote:\n"
     ]
    }
   ],
   "source": [
    "age=19\n",
    "if age > 18: print(\"eligible for vote:\")"
   ]
  },
  {
   "cell_type": "markdown",
   "id": "5b4a6f5c",
   "metadata": {},
   "source": [
    "If else Conditional Statements in Python\n",
    "\n"
   ]
  },
  {
   "cell_type": "code",
   "execution_count": 3,
   "id": "de714bca",
   "metadata": {},
   "outputs": [
    {
     "name": "stdout",
     "output_type": "stream",
     "text": [
      "Travel for free.\n"
     ]
    }
   ],
   "source": [
    "age = 10\n",
    "\n",
    "if age <= 12:\n",
    "    print(\"Travel for free.\")\n",
    "else:\n",
    "    print(\"Pay for ticket.\")"
   ]
  },
  {
   "cell_type": "markdown",
   "id": "8cf576a6",
   "metadata": {},
   "source": [
    "Short Hand if-else\n",
    "\n",
    "The short-hand if-else statement allows us to write a single-line if-else statement.\n"
   ]
  },
  {
   "cell_type": "code",
   "execution_count": 4,
   "id": "06fba883",
   "metadata": {},
   "outputs": [
    {
     "name": "stdout",
     "output_type": "stream",
     "text": [
      "Result: Pass\n"
     ]
    }
   ],
   "source": [
    "marks = 45\n",
    "res = \"Pass\" if marks >= 40 else \"Fail\"\n",
    "\n",
    "print(f\"Result: {res}\")"
   ]
  },
  {
   "cell_type": "markdown",
   "id": "57d48014",
   "metadata": {},
   "source": [
    "elif Statement\n"
   ]
  },
  {
   "cell_type": "code",
   "execution_count": null,
   "id": "5284f5fc",
   "metadata": {},
   "outputs": [
    {
     "name": "stdout",
     "output_type": "stream",
     "text": [
      "Child.\n"
     ]
    }
   ],
   "source": [
    "age = 12\n",
    "if age <= 12:\n",
    "    print(\"Child.\")\n",
    "elif age <= 19:\n",
    "    print(\"Teenager.\")\n",
    "elif age <= 35:\n",
    "    print(\"Young adult.\")\n",
    "else:\n",
    "    print(\"Adult.\")"
   ]
  },
  {
   "cell_type": "markdown",
   "id": "3a7e7a60",
   "metadata": {},
   "source": [
    "Nested if..else Conditional Statements in Python\n",
    "\n",
    "Nested if..else means an if-else statement inside another if statement. We can use nested if statements to check conditions within conditions"
   ]
  },
  {
   "cell_type": "code",
   "execution_count": 12,
   "id": "dd6b3f18",
   "metadata": {},
   "outputs": [
    {
     "name": "stdout",
     "output_type": "stream",
     "text": [
      "30% senior discount!\n"
     ]
    }
   ],
   "source": [
    "age = 70\n",
    "is_member = True\n",
    "\n",
    "if age >= 60:\n",
    "    if is_member:\n",
    "        print(\"30% senior discount!\")\n",
    "    else:\n",
    "        print(\"20% senior discount.\")\n",
    "else:\n",
    "    print(\"Not eligible for a senior discount.\")"
   ]
  },
  {
   "cell_type": "markdown",
   "id": "24d0096a",
   "metadata": {},
   "source": [
    "Ternary Conditional Statement in Python\n",
    "\n",
    "A ternary conditional statement is a compact way to write an if-else condition in a single line. It’s sometimes called a \"conditional expression.\"\n",
    "\n",
    "Example:"
   ]
  },
  {
   "cell_type": "code",
   "execution_count": 13,
   "id": "e97f1485",
   "metadata": {},
   "outputs": [
    {
     "name": "stdout",
     "output_type": "stream",
     "text": [
      "Adult\n"
     ]
    }
   ],
   "source": [
    "# Assign a value based on a condition\n",
    "age = 20\n",
    "s = \"Adult\" if age >= 18 else \"Minor\"\n",
    "\n",
    "print(s)"
   ]
  },
  {
   "cell_type": "markdown",
   "id": "d61446f7",
   "metadata": {},
   "source": [
    "Match-Case Statement in Python\n",
    "\n",
    "match-case statement is Python's version of a switch-case found in other languages. It allows us to match a variable's value against a set of pattern\n"
   ]
  },
  {
   "cell_type": "code",
   "execution_count": null,
   "id": "6956ec97",
   "metadata": {},
   "outputs": [
    {
     "name": "stdout",
     "output_type": "stream",
     "text": [
      "Two or three\n"
     ]
    }
   ],
   "source": [
    "number=2 \n",
    "match number: #number is matching value and match is keyword\n",
    "    case 1:\n",
    "        print(\"one\")\n",
    "    case 2:\n",
    "        print('Two or three')\n",
    "    case 3:\n",
    "        print(\"other number\")        "
   ]
  },
  {
   "cell_type": "code",
   "execution_count": 1,
   "id": "89394b97",
   "metadata": {},
   "outputs": [],
   "source": [
    "myVariable2=3"
   ]
  }
 ],
 "metadata": {
  "kernelspec": {
   "display_name": "Python 3",
   "language": "python",
   "name": "python3"
  },
  "language_info": {
   "codemirror_mode": {
    "name": "ipython",
    "version": 3
   },
   "file_extension": ".py",
   "mimetype": "text/x-python",
   "name": "python",
   "nbconvert_exporter": "python",
   "pygments_lexer": "ipython3",
   "version": "3.13.5"
  }
 },
 "nbformat": 4,
 "nbformat_minor": 5
}
