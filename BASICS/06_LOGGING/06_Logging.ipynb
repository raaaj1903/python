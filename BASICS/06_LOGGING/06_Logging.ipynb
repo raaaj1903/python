{
 "cells": [
  {
   "cell_type": "markdown",
   "id": "e63b3fab",
   "metadata": {},
   "source": [
    "PYTHON LOGGING"
   ]
  },
  {
   "cell_type": "markdown",
   "id": "79e8e69d",
   "metadata": {},
   "source": [
    "Logging in Python means recording (logging) events that happen when a program runs.\n",
    "It is mainly used for debugging, monitoring, and keeping track of program execution."
   ]
  },
  {
   "cell_type": "markdown",
   "id": "696e0a04",
   "metadata": {},
   "source": [
    "🔹 Why Logging is Needed?\n",
    "\n",
    "print() is only for temporary debugging.\n",
    "\n",
    "Logging is more flexible → you can record messages at different levels (info, warning, error…).\n",
    "\n",
    "Logs can be stored in a file or shown on the console.\n",
    "\n",
    "In large projects, it helps in tracing issues."
   ]
  },
  {
   "cell_type": "markdown",
   "id": "d81ef5e3",
   "metadata": {},
   "source": [
    "🔹 Logging Levels in Python\n",
    "\n",
    "Python provides 5 standard levels of logging:\n",
    "\n",
    "DEBUG → Detailed information, used for debugging.\n",
    "\n",
    "INFO → General events to confirm program is working.\n",
    "\n",
    "WARNING → Something unexpected happened, but program still runs.\n",
    "\n",
    "ERROR → A serious problem, part of the program failed.\n",
    "\n",
    "CRITICAL → Very serious error, program may stop running."
   ]
  },
  {
   "cell_type": "code",
   "execution_count": 3,
   "id": "9f283ab0",
   "metadata": {},
   "outputs": [
    {
     "name": "stderr",
     "output_type": "stream",
     "text": [
      "DEBUG:root:This is a debug message\n",
      "INFO:root:This is an info message\n",
      "WARNING:root:This is a warning message\n",
      "ERROR:root:This is an error message\n",
      "CRITICAL:root:This is a critical message\n"
     ]
    }
   ],
   "source": [
    "import logging\n",
    "## Configure the basic logging settings\n",
    "logging.basicConfig(level=logging.DEBUG)\n",
    "\n",
    "#log messages\n",
    "logging.debug(\"This is a debug message\")\n",
    "logging.info(\"This is an info message\")\n",
    "logging.warning(\"This is a warning message\")\n",
    "logging.error(\"This is an error message\")\n",
    "logging.critical(\"This is a critical message\")\n",
    "\n",
    "\n"
   ]
  },
  {
   "cell_type": "markdown",
   "id": "d9c2c7de",
   "metadata": {},
   "source": [
    "LOG LEVELS"
   ]
  },
  {
   "cell_type": "markdown",
   "id": "4e05fdab",
   "metadata": {},
   "source": [
    "Python logging module has 5 main levels (each has a numeric value).\n",
    "\n",
    "DEBUG (10)\n",
    "\n",
    "Very detailed information.\n",
    "\n",
    "Used for debugging by developers.\n",
    "\n",
    "Example: \"Function X started with input Y.\"\n",
    "\n",
    "INFO (20)\n",
    "\n",
    "General information about program execution.\n",
    "\n",
    "Confirms everything is working as expected.\n",
    "\n",
    "Example: \"User logged in successfully.\"\n",
    "\n",
    "WARNING (30)\n",
    "\n",
    "Something unexpected happened.\n",
    "\n",
    "Not an error, but needs attention.\n",
    "\n",
    "Example: \"Disk space is running low.\"\n",
    "\n",
    "ERROR (40)\n",
    "\n",
    "A serious issue occurred.\n",
    "\n",
    "Program failed to do something.\n",
    "\n",
    "Example: \"Failed to connect to database.\"\n",
    "\n",
    "CRITICAL (50)\n",
    "\n",
    "Very serious error.\n",
    "\n",
    "Program may crash or stop running.\n",
    "\n",
    "Example: \"System out of memory! Shutting down.\"\n",
    "\n",
    "\n",
    "\n",
    "\n",
    "👉 Quick memory trick:\n",
    "\n",
    "DEBUG → Developer details\n",
    "\n",
    "INFO → Normal info\n",
    "\n",
    "WARNING → Caution\n",
    "\n",
    "ERROR → Something failed\n",
    "\n",
    "CRITICAL → Program crash"
   ]
  },
  {
   "cell_type": "code",
   "execution_count": null,
   "id": "b8f4c6e6",
   "metadata": {},
   "outputs": [
    {
     "name": "stderr",
     "output_type": "stream",
     "text": [
      "DEBUG:root:This is a debug message\n",
      "INFO:root:This is an info message\n",
      "WARNING:root:This is a warning message\n",
      "ERROR:root:This is an error message\n",
      "CRITICAL:root:This is a critical message\n"
     ]
    }
   ],
   "source": [
    "#CONGIGRING LOGING\n",
    "logging.basicConfig(\n",
    "    filename='app.log',\n",
    "    level=logging.DEBUG,\n",
    "    format='%(asctime)s-%(name)s-%(levelname)s-%(message)s',\n",
    "    datefmt='%Y-%m-%d %H:%M:%S'\n",
    "\n",
    ")\n",
    "\n",
    "logging.debug(\"This is a debug message\")\n",
    "logging.info(\"This is an info message\")\n",
    "logging.warning(\"This is a warning message\")\n",
    "logging.error(\"This is an error message\")\n",
    "logging.critical(\"This is a critical message\")"
   ]
  }
 ],
 "metadata": {
  "kernelspec": {
   "display_name": "base",
   "language": "python",
   "name": "python3"
  },
  "language_info": {
   "codemirror_mode": {
    "name": "ipython",
    "version": 3
   },
   "file_extension": ".py",
   "mimetype": "text/x-python",
   "name": "python",
   "nbconvert_exporter": "python",
   "pygments_lexer": "ipython3",
   "version": "3.13.5"
  }
 },
 "nbformat": 4,
 "nbformat_minor": 5
}
