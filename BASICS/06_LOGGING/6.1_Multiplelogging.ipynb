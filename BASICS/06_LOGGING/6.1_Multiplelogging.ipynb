{
 "cells": [
  {
   "cell_type": "markdown",
   "id": "425eed00",
   "metadata": {},
   "source": [
    "LOGGING WITH MULTIPLE LOGGER"
   ]
  },
  {
   "cell_type": "markdown",
   "id": "b720c855",
   "metadata": {},
   "source": [
    "YOU CAN CREATE MULTIPLE LOGGERS FOR DIFERENT PARTS OF YOUR APPLICATION"
   ]
  },
  {
   "cell_type": "code",
   "execution_count": null,
   "id": "70b1b2a5",
   "metadata": {},
   "outputs": [],
   "source": []
  }
 ],
 "metadata": {
  "kernelspec": {
   "display_name": "base",
   "language": "python",
   "name": "python3"
  },
  "language_info": {
   "codemirror_mode": {
    "name": "ipython",
    "version": 3
   },
   "file_extension": ".py",
   "mimetype": "text/x-python",
   "name": "python",
   "nbconvert_exporter": "python",
   "pygments_lexer": "ipython3",
   "version": "3.13.5"
  }
 },
 "nbformat": 4,
 "nbformat_minor": 5
}
