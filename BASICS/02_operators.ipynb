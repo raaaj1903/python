{
 "cells": [
  {
   "cell_type": "markdown",
   "id": "c45c2996",
   "metadata": {},
   "source": [
    "Python Operators\n",
    "\n",
    "OPERATORS:-- These are the special symbols. Eg- + , * , /, etc.\n",
    "OPERAND: --It is the value on which the operator is applied.\n",
    "\n"
   ]
  },
  {
   "cell_type": "code",
   "execution_count": 1,
   "id": "801ddf5e",
   "metadata": {},
   "outputs": [
    {
     "name": "stdout",
     "output_type": "stream",
     "text": [
      "Addition: 19\n",
      "Subtraction: 11\n",
      "Multiplication: 60\n",
      "Division: 3.75\n",
      "Floor Division: 3\n",
      "Modulus: 3\n",
      "Exponentiation: 50625\n"
     ]
    }
   ],
   "source": [
    "# Arithmetic Operators in Python\n",
    "\n",
    "# Python Arithmetic operators are used to perform basic mathematical operations like addition, subtraction, multiplication and division.\n",
    "\n",
    "# Variables\n",
    "a = 15\n",
    "b = 4\n",
    "\n",
    "# Addition\n",
    "print(\"Addition:\", a + b)  \n",
    "\n",
    "# Subtraction\n",
    "print(\"Subtraction:\", a - b) \n",
    "\n",
    "# Multiplication\n",
    "print(\"Multiplication:\", a * b)  \n",
    "\n",
    "# Division\n",
    "print(\"Division:\", a / b) \n",
    "\n",
    "# Floor Division\n",
    "print(\"Floor Division:\", a // b)  \n",
    "\n",
    "# Modulus\n",
    "print(\"Modulus:\", a % b) \n",
    "\n",
    "# Exponentiation\n",
    "print(\"Exponentiation:\", a ** b)"
   ]
  },
  {
   "cell_type": "markdown",
   "id": "dcc3f85e",
   "metadata": {},
   "source": [
    "✅ 1. Division Operator /\n",
    "Returns a float (decimal number) even if both operands are integers.\n",
    "\n",
    "Keeps the decimal part of the result.\\\n",
    "\n",
    "print(7 / 2)   # Output: 3.5\n",
    "print(10 / 5)  # Output: 2.0\n",
    "\n",
    "\n",
    "              vs\n",
    "\n",
    "\n",
    "2. Floor Division Operator //\n",
    "Returns the largest whole number less than or equal to the result (an integer).\n",
    "\n",
    "It \"floors\" the result, meaning it removes the decimal part (rounds down).\n",
    "\n",
    "python\n",
    "Copy code\n",
    "print(7 // 2)   # Output: 3\n",
    "print(10 // 5)  # Output: 2\n",
    "print(-7 // 2)  # Output: -4  ← Notice it rounds down, not toward zero"
   ]
  },
  {
   "cell_type": "code",
   "execution_count": 3,
   "id": "fe33ea9b",
   "metadata": {},
   "outputs": [
    {
     "name": "stdout",
     "output_type": "stream",
     "text": [
      "3.5\n",
      "3.0\n",
      "3.5\n",
      "3.0\n"
     ]
    }
   ],
   "source": [
    "# with floats\n",
    "print(7.0 / 2)    # Output: 3.5  → normal division\n",
    "print(7.0 // 2)   # Output: 3.0  → floor division still gives float result\n",
    "\n",
    "print(7 / 2.0)    # Output: 3.5\n",
    "print(7 // 2.0)   # Output: 3.0\n"
   ]
  },
  {
   "cell_type": "code",
   "execution_count": null,
   "id": "8ad4dbdd",
   "metadata": {},
   "outputs": [
    {
     "name": "stdout",
     "output_type": "stream",
     "text": [
      "-3.5\n",
      "-4\n",
      "-3.5\n",
      "-4\n",
      "-5\n",
      "-4\n"
     ]
    }
   ],
   "source": [
    "# with negitive numbers\n",
    "print(-7 / 2)     # Output: -3.5\n",
    "print(-7 // 2)    # Output: -4  ← floors down to the next lowest whole number\n",
    "\n",
    "print(7 / -2)     # Output: -3.5\n",
    "print(7 // -2)    # Output: -4\n",
    "\n",
    "print(-9//2)#-5\n",
    "print(-8//2)#-4"
   ]
  },
  {
   "cell_type": "markdown",
   "id": "5c37469c",
   "metadata": {},
   "source": [
    "2--> Comparison of Python Operators\n",
    "\n",
    "In Python Comparison of Relational operators compares the values. It either returns True or False according to the condition.\n",
    "\n",
    " [> < == != >= <=]\n"
   ]
  },
  {
   "cell_type": "code",
   "execution_count": 7,
   "id": "411505bc",
   "metadata": {},
   "outputs": [
    {
     "name": "stdout",
     "output_type": "stream",
     "text": [
      "False\n",
      "True\n",
      "False\n",
      "True\n",
      "False\n",
      "True\n"
     ]
    }
   ],
   "source": [
    "a = 13\n",
    "b = 33\n",
    "\n",
    "print(a > b)\n",
    "print(a < b)\n",
    "print(a == b)\n",
    "print(a != b)\n",
    "print(a >= b)\n",
    "print(a <= b)"
   ]
  },
  {
   "cell_type": "markdown",
   "id": "a2e55711",
   "metadata": {},
   "source": [
    " 3-->Logical Operators in Python\n",
    "\n",
    "Python Logical operators perform Logical AND, Logical OR and Logical NOT operations. It is used to combine conditional statements.\n",
    "\n",
    "Logical not\n",
    "logical and\n",
    "logical or"
   ]
  },
  {
   "cell_type": "code",
   "execution_count": 8,
   "id": "380565fe",
   "metadata": {},
   "outputs": [
    {
     "name": "stdout",
     "output_type": "stream",
     "text": [
      "False\n",
      "True\n",
      "False\n"
     ]
    }
   ],
   "source": [
    "a = True\n",
    "b = False\n",
    "print(a and b)\n",
    "print(a or b)\n",
    "print(not a)"
   ]
  },
  {
   "cell_type": "code",
   "execution_count": null,
   "id": "4e145d94",
   "metadata": {},
   "outputs": [],
   "source": [
    "# 5-Bitwise Operators in Python\n",
    "\n",
    "# Python Bitwise operators act on bits and perform bit-by-bit operations. These are used to operate on binary numbers.\n",
    "\n",
    "# Bitwise Operators in Python are as follows:\n",
    "\n",
    "# Bitwise NOT\n",
    "# Bitwise Shift\n",
    "# Bitwise AND\n",
    "# Bitwise XOR\n",
    "# Bitwise OR\n",
    "\n",
    "\n",
    "# theroy portion explore in video"
   ]
  },
  {
   "cell_type": "code",
   "execution_count": null,
   "id": "a7e97e26",
   "metadata": {},
   "outputs": [
    {
     "name": "stdout",
     "output_type": "stream",
     "text": [
      "0\n"
     ]
    }
   ],
   "source": [
    "a = 10\n",
    "b = 4\n",
    "\n",
    "print(a & b)\n",
    "print(a | b)\n",
    "print(~a)\n",
    "print(a ^ b)\n",
    "print(a >> 2)\n",
    "print(a << 2)"
   ]
  },
  {
   "cell_type": "markdown",
   "id": "9587dcc5",
   "metadata": {},
   "source": [
    "6-->Assignment Operators in Python\n",
    "\n",
    "Python Assignment operators are used to assign values to the variables. This operator is used to assign the value of the right side of the expression to the left side operand.\n",
    "\n"
   ]
  },
  {
   "cell_type": "code",
   "execution_count": null,
   "id": "bfac83b2",
   "metadata": {},
   "outputs": [
    {
     "name": "stdout",
     "output_type": "stream",
     "text": [
      "10\n",
      "20\n",
      "10\n",
      "100\n",
      "102400\n"
     ]
    }
   ],
   "source": [
    "a = 10\n",
    "b = a\n",
    "print(b)\n",
    "b += a#b=b+a\n",
    "print(b)\n",
    "b -= a#b=b-a\n",
    "print(b)\n",
    "b *= a#b=b*a\n",
    "print(b)\n",
    "b <<= a#b=b<<a\n",
    "print(b)\n"
   ]
  },
  {
   "cell_type": "markdown",
   "id": "568f2c08",
   "metadata": {},
   "source": [
    "Identity Operators in Python\n",
    "\n",
    "\n",
    "is          True if the operands are identical \n",
    "is not      True if the operands are not identical "
   ]
  },
  {
   "cell_type": "code",
   "execution_count": null,
   "id": "b0de33c5",
   "metadata": {},
   "outputs": [
    {
     "name": "stdout",
     "output_type": "stream",
     "text": [
      "True\n",
      "True\n"
     ]
    }
   ],
   "source": [
    "a = 10\n",
    "b = 20\n",
    "c = a\n",
    "\n",
    "print(a is not b)#true\n",
    "print(a is c)#true"
   ]
  },
  {
   "cell_type": "markdown",
   "id": "1eab9544",
   "metadata": {},
   "source": [
    "Membership Operators in Python\n",
    "\n",
    "in            True if value is found in the sequence\n",
    "not in        True if value is not found in the sequence\n"
   ]
  },
  {
   "cell_type": "code",
   "execution_count": 22,
   "id": "d0ea1a4e",
   "metadata": {},
   "outputs": [
    {
     "name": "stdout",
     "output_type": "stream",
     "text": [
      "x is NOT present in given list\n",
      "y is present in given list\n"
     ]
    }
   ],
   "source": [
    "x = 24\n",
    "y = 20\n",
    "list = [10, 20, 30, 40, 50]\n",
    "\n",
    "if (x not in list):\n",
    "    print(\"x is NOT present in given list\")\n",
    "else:\n",
    "    print(\"x is present in given list\")\n",
    "\n",
    "if (y in list):\n",
    "    print(\"y is present in given list\")\n",
    "else:\n",
    "    print(\"y is NOT present in given list\")"
   ]
  },
  {
   "cell_type": "markdown",
   "id": "8d339ad4",
   "metadata": {},
   "source": [
    "Ternary Operator in Python\n",
    "\n",
    "It simply allows testing a condition in a single line replacing the multiline if-else making the code compact.\n"
   ]
  },
  {
   "cell_type": "code",
   "execution_count": 23,
   "id": "0636cf3b",
   "metadata": {},
   "outputs": [
    {
     "name": "stdout",
     "output_type": "stream",
     "text": [
      "10\n"
     ]
    }
   ],
   "source": [
    "a, b = 10, 20\n",
    "min = a if a < b else b\n",
    "\n",
    "print(min)"
   ]
  },
  {
   "cell_type": "markdown",
   "id": "2272b241",
   "metadata": {},
   "source": [
    "Operator Associativity in Python\n",
    "\n",
    "If an expression contains two or more operators with the same precedence then Operator Associativity is used to determine. It can either be Left to Right or from Right to Left.\n",
    "\n",
    "\n",
    "Precedence\tOperators\tDescription\n",
    "1 (Highest)\t()\tParentheses (used to group expressions)\n",
    "2\t**\tExponentiation\n",
    "3\t+x, -x, ~x\tUnary plus, minus, bitwise NOT\n",
    "4\t*, /, //, %\tMultiplication, Division, Floor Div, Modulus\n",
    "5\t+, -\tAddition and Subtraction\n",
    "6\t<<, >>\tBitwise shift operators\n",
    "7\t&\tBitwise AND\n",
    "8\t^\tBitwise XOR\n",
    "9\t`\t`\n",
    "10\t==, !=, >, <, >=, <=, is, is not, in, not in\tComparisons\n",
    "11\tnot\tLogical NOT\n",
    "12\tand\tLogical AND\n",
    "13\tor\tLogical OR\n",
    "14\t=, +=, -=, *=, etc.\tAssignment operators\n",
    "15 (Lowest)\tlambda"
   ]
  },
  {
   "cell_type": "code",
   "execution_count": null,
   "id": "4dd3b84b",
   "metadata": {},
   "outputs": [],
   "source": [
    "print(100 / 10 * 10)#right to left\n",
    "print(5 - 2 + 3)#right to left\n",
    "print(5 - (2 + 3))#left to rright\n",
    "print(2 ** 3 ** 2)#left to right\n",
    "\n"
   ]
  }
 ],
 "metadata": {
  "kernelspec": {
   "display_name": "Python 3",
   "language": "python",
   "name": "python3"
  },
  "language_info": {
   "codemirror_mode": {
    "name": "ipython",
    "version": 3
   },
   "file_extension": ".py",
   "mimetype": "text/x-python",
   "name": "python",
   "nbconvert_exporter": "python",
   "pygments_lexer": "ipython3",
   "version": "3.13.5"
  }
 },
 "nbformat": 4,
 "nbformat_minor": 5
}
