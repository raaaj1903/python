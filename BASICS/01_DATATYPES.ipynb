{
 "cells": [
  {
   "cell_type": "markdown",
   "id": "af32149b",
   "metadata": {},
   "source": [
    "Python Data Types\n",
    "\n",
    "comments\n",
    "Python Data types are the classification or categorization of data items. It represents the kind of value that tells what operations can be performed on a particular data. Since everything is an object in Python programming, Python data types are classes and variables are instances (objects) of these classes. The following are the standard or built-in data types in Python:\n",
    "\n",
    "Numeric - int, float, complex\n",
    "Sequence Type - string, list, tuple\n",
    "Mapping Type - dict\n",
    "Boolean - bool\n",
    "Set Type - set, frozenset\n",
    "Binary Types - bytes, bytearray, memoryview"
   ]
  },
  {
   "cell_type": "markdown",
   "id": "1cc08785",
   "metadata": {},
   "source": [
    "1. Numeric Data Types in Python\n",
    "\n",
    "Integers - This value is represented by int class. It contains positive or negative whole numbers (without fractions or decimals). In Python, there is no limit to how long an integer value can be.\n",
    "Float - This value is represented by the float class. It is a real number with a floating-point representation. It is specified by a decimal point. Optionally, the character e or E followed by a positive or negative integer may be appended to specify scientific notation.\n",
    "Complex Numbers - A complex number is represented by a complex class. It is specified as (real part) + (imaginary part)j . For example - 2+3j"
   ]
  },
  {
   "cell_type": "code",
   "execution_count": 1,
   "id": "91f9e69e",
   "metadata": {},
   "outputs": [
    {
     "name": "stdout",
     "output_type": "stream",
     "text": [
      "<class 'int'>\n",
      "<class 'float'>\n",
      "<class 'complex'>\n",
      "<class 'complex'>\n"
     ]
    }
   ],
   "source": [
    "a = 5\n",
    "print(type(a))\n",
    "\n",
    "b = 5.0\n",
    "print(type(b))\n",
    "\n",
    "c = 2 + 4j\n",
    "print(type(c))\n",
    "\n",
    "d = 2 + 5j\n",
    "print(type(d))"
   ]
  },
  {
   "cell_type": "markdown",
   "id": "9b92e701",
   "metadata": {},
   "source": [
    "2. Sequence Data Types in Python\n",
    "The sequence Data Type in Python is the ordered collection of similar or different Python data types. Sequences allow storing of multiple values in an organized and efficient fashion. There are several sequence data types of Python:\n",
    "\n",
    "Python String\n",
    "Python List\n",
    "Python Tuple\n"
   ]
  },
  {
   "cell_type": "code",
   "execution_count": 2,
   "id": "a03cf3c0",
   "metadata": {},
   "outputs": [
    {
     "name": "stdout",
     "output_type": "stream",
     "text": [
      "Welcome to the Geeks World\n",
      "<class 'str'>\n",
      "e\n",
      "l\n",
      "d\n"
     ]
    }
   ],
   "source": [
    "#String Data Type\n",
    "\n",
    "s = 'Welcome to the Geeks World'\n",
    "print(s)\n",
    "\n",
    "# check data type \n",
    "print(type(s))\n",
    "\n",
    "# access string with index\n",
    "print(s[1])\n",
    "print(s[2])\n",
    "print(s[-1])\n"
   ]
  },
  {
   "cell_type": "code",
   "execution_count": null,
   "id": "11d92e8a",
   "metadata": {},
   "outputs": [
    {
     "name": "stdout",
     "output_type": "stream",
     "text": [
      "[1, 2, 3]\n",
      "['Geeks', 'For', 'Geeks', 4, 5]\n"
     ]
    }
   ],
   "source": [
    "#List Data Type\n",
    "\n",
    "#Creating a List in Python\n",
    "\n",
    "# Lists in Python can be created by just placing the sequence inside the square brackets[].\n",
    "\n",
    "# Empty list\n",
    "a = []\n",
    "\n",
    "# list with int values\n",
    "a = [1, 2, 3]\n",
    "print(a)\n",
    "\n",
    "# list with mixed int and string\n",
    "b = [\"Geeks\", \"For\", \"Geeks\", 4, 5]\n",
    "print(b)\n",
    "\n"
   ]
  },
  {
   "cell_type": "code",
   "execution_count": 4,
   "id": "be263e3f",
   "metadata": {},
   "outputs": [
    {
     "name": "stdout",
     "output_type": "stream",
     "text": [
      "Accessing element from the list\n",
      "Geeks\n",
      "Geeks\n",
      "Accessing element using negative indexing\n",
      "Geeks\n",
      "Geeks\n"
     ]
    }
   ],
   "source": [
    "#Access List Items\n",
    "\n",
    "a = [\"Geeks\", \"For\", \"Geeks\"]\n",
    "print(\"Accessing element from the list\")\n",
    "print(a[0])\n",
    "print(a[2])\n",
    "\n",
    "print(\"Accessing element using negative indexing\")\n",
    "print(a[-1])\n",
    "print(a[-3])\n"
   ]
  },
  {
   "cell_type": "code",
   "execution_count": null,
   "id": "02bcf480",
   "metadata": {},
   "outputs": [
    {
     "name": "stdout",
     "output_type": "stream",
     "text": [
      "\n",
      "Tuple with the use of String:  ('RAJ', 'PRATHAM')\n",
      "()\n"
     ]
    }
   ],
   "source": [
    "#Tuple Data Type\n",
    "\n",
    "# initiate empty tuple\n",
    "tup1 = ()\n",
    "\n",
    "tup2 = ('RAJ','PRATHAM')\n",
    "print(\"\\nTuple with the use of String: \", tup2)\n",
    "# print(tup1)"
   ]
  },
  {
   "cell_type": "code",
   "execution_count": null,
   "id": "9e015ba1",
   "metadata": {},
   "outputs": [
    {
     "name": "stdout",
     "output_type": "stream",
     "text": [
      "<class 'bool'>\n",
      "<class 'bool'>\n"
     ]
    }
   ],
   "source": [
    "#3. Boolean Data Type in Python\n",
    "#Python Data type with one of the two built-in values, True or False\n",
    "\n",
    "print(type(True))\n",
    "print(type(False))\n",
    "# print(type(true))//capital letters-TRUE otherwise erro true is not define\n"
   ]
  },
  {
   "cell_type": "code",
   "execution_count": 8,
   "id": "1c4256b8",
   "metadata": {},
   "outputs": [
    {
     "name": "stdout",
     "output_type": "stream",
     "text": [
      "Set with the use of String:  {'I', 'R', ' ', 'H', 'O', 'D', 'E', 'C', 'A'}\n",
      "Set with the use of List:  {'Geeks', 'For'}\n"
     ]
    }
   ],
   "source": [
    "# 4. Set Data Type in Python\n",
    "\n",
    "# Unordered – Elements have no fixed position or index.\n",
    "\n",
    "# Mutable – You can add or remove elements after creation.\n",
    "\n",
    "# No Duplicates – Automatically removes repeated elements.\n",
    "\n",
    "# Iterable – Can be looped through using a for loop.\n",
    "\n",
    "# Heterogeneous – Can contain elements of different immutable data types.\n",
    "\n",
    "# No Indexing/Slicing – Elements can’t be accessed by position.\n",
    "\n",
    "# Supports Set Operations – Allows union, intersection, difference, etc.\n",
    "\n",
    "# initializing empty set\n",
    "s1 = set()\n",
    "\n",
    "s1 = set(\"CHAI OR CODE\")\n",
    "print(\"Set with the use of String: \", s1)\n",
    "\n",
    "s2 = set([\"Geeks\", \"For\", \"Geeks\"])\n",
    "print(\"Set with the use of List: \", s2)\n"
   ]
  },
  {
   "cell_type": "code",
   "execution_count": null,
   "id": "6afbc4fb",
   "metadata": {},
   "outputs": [
    {
     "name": "stdout",
     "output_type": "stream",
     "text": [
      "{'OR', 'CODE', 'CHAI'}\n",
      "OR CODE CHAI False\n"
     ]
    }
   ],
   "source": [
    "#Access Set Items\n",
    "#Set items cannot be accessed by referring to an index, since sets are unordered the items have no index. But we can loop through the set items using a for loop,\n",
    "\n",
    "set1 = set([\"CHAI\", \"OR\", \"CODE\"])\n",
    "print(set1)\n",
    "\n",
    "# loop through set\n",
    "for i in set1:\n",
    "    print(i, end=\" \")\n",
    "    \n",
    "    \n",
    "# check if item exist in set \n",
    "print(\"Geeks\" in set1)\n",
    "\n",
    "\n"
   ]
  },
  {
   "cell_type": "code",
   "execution_count": 13,
   "id": "53aec911",
   "metadata": {},
   "outputs": [
    {
     "name": "stdout",
     "output_type": "stream",
     "text": [
      "{1: 'RAJ', 2: 'OR', 3: 'PRATHAM'}\n",
      "{1: 'Geeks', 2: 'For', 3: 'Geeks'}\n"
     ]
    }
   ],
   "source": [
    "#5. Dictionary Data Type\n",
    "# Create a Dictionary in Python\n",
    "\n",
    "# initialize empty dictionary\n",
    "d = {}\n",
    "\n",
    "\n",
    "d = {1: 'RAJ', 2: 'OR', 3: 'PRATHAM'}\n",
    "print(d)\n",
    "\n",
    "# creating dictionary using dict() constructor\n",
    "d1 = dict({1: 'Geeks', 2: 'For', 3: 'Geeks'})\n",
    "print(d1)"
   ]
  },
  {
   "cell_type": "code",
   "execution_count": null,
   "id": "c3136b55",
   "metadata": {},
   "outputs": [],
   "source": [
    "#Accessing Key-value in Dictionary\n",
    "#Using get() method we can access the dictionary elements.\n",
    "\n",
    "\n",
    "\n",
    "d = {1: 'Geeks', 'name': 'For', 3: 'Geeks'}\n",
    "\n",
    "# Accessing an element using key\n",
    "print(d['name'])\n",
    "\n",
    "# Accessing a element using get\n",
    "print(d.get(3))"
   ]
  },
  {
   "cell_type": "code",
   "execution_count": null,
   "id": "525bc74a",
   "metadata": {},
   "outputs": [],
   "source": [
    "#SOME ABOUT BASIC OF PYTHON\n",
    "# Q1. Code to implement basic list operations\n",
    "\n",
    "fruits = [\"apple\", \"banana\", \"orange\"]\n",
    "print(fruits)\n",
    "fruits.append(\"grape\")#add value in last index\n",
    "print(fruits)\n",
    "fruits.remove(\"orange\")#remove value\n",
    "print(fruits)\n",
    "\n",
    "\n",
    "\n"
   ]
  },
  {
   "cell_type": "code",
   "execution_count": 15,
   "id": "949091e1",
   "metadata": {},
   "outputs": [
    {
     "name": "stdout",
     "output_type": "stream",
     "text": [
      "(3, 5)\n",
      "-cordinates: 3\n",
      "y-cordinates: 5\n"
     ]
    }
   ],
   "source": [
    "# Q2. Code to implement basic tuple operation\n",
    "raj=(3,5)\n",
    "print(raj)\n",
    "\n",
    "print(\"-cordinates:\",raj[0])\n",
    "print(\"y-cordinates:\",raj[1])"
   ]
  }
 ],
 "metadata": {
  "kernelspec": {
   "display_name": "Python 3",
   "language": "python",
   "name": "python3"
  },
  "language_info": {
   "codemirror_mode": {
    "name": "ipython",
    "version": 3
   },
   "file_extension": ".py",
   "mimetype": "text/x-python",
   "name": "python",
   "nbconvert_exporter": "python",
   "pygments_lexer": "ipython3",
   "version": "3.13.5"
  }
 },
 "nbformat": 4,
 "nbformat_minor": 5
}
